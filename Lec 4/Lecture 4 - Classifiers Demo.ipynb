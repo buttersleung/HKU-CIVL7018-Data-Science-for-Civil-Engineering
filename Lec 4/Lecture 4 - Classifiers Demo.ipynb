{
 "cells": [
  {
   "cell_type": "markdown",
   "id": "372b87d0",
   "metadata": {},
   "source": [
    "# Lecture 4 - Classifiers Demo\n",
    "## Logistic regression, support vector machine, decision trees, bagging, boosting\n",
    "Author: Kaihang Zhang<br>\n",
    " khzhang2@connect.hku.hk <br>\n",
    "208 Haking Wong Building<br>\n",
    "Department of Civil Engineering<br>\n",
    "The University of Hong Kong<br>\n",
    "December 24, 2022<br>"
   ]
  },
  {
   "cell_type": "code",
   "execution_count": 1,
   "id": "6a1f5bd2",
   "metadata": {},
   "outputs": [],
   "source": [
    "##################################################################################################################\n",
    "##      Script template created for the course CIVL 7018 at The University of Hong Kong.                        ##\n",
    "##      in Spring 2023 semester                                                                                 ##\n",
    "##      Licensing Information:  You are free to use or extend this project if:                                  ##\n",
    "##          (1) You don't distribute or publish coding solutions for CIVL 7018 Assignments online.              ##\n",
    "##          (2) You retain this notice.                                                                         ##\n",
    "##          (3) You provide clear attribution to The University of Hong Kong                                    ##\n",
    "##################################################################################################################"
   ]
  },
  {
   "cell_type": "markdown",
   "id": "9ed0922b",
   "metadata": {},
   "source": [
    "## Problem Description"
   ]
  },
  {
   "cell_type": "markdown",
   "id": "f75559a7",
   "metadata": {},
   "source": [
    "Consider again the probability of a student passing an exam.\n",
    "\n",
    "A group of 20 students spend between 0 and 6 hours studying for an exam. How does the number of hours spent studying affect the probability that the student will pass the exam? The table shows the number of hours each student spent studying, and whether they passed (1) or failed (0).\n",
    "\n",
    "Additionally, we consider a second variable, the previous passing rate, which is the number of courses a student has taken and passed divided by total number of courses that student has taken. \n",
    "\n",
    "The data is summarized in the table below."
   ]
  },
  {
   "cell_type": "markdown",
   "id": "b50725fe",
   "metadata": {},
   "source": [
    "## Data"
   ]
  },
  {
   "cell_type": "markdown",
   "id": "8ca698ef",
   "metadata": {},
   "source": [
    "|Student ID|Study Hours|Prev. Pass Rate|Pass?|\n",
    "|---       |---        |---            |---  |\n",
    "|1         |0.5        |0.4            |0|\n",
    "|2         |0.75       |0.3            |0|\n",
    "|3         |1          |0.6            |0|\n",
    "|4         |1.25       |0.4            |0|\n",
    "|5         |1.5        |0.7            |0|\n",
    "|6         |1.75       |0.4            |0|\n",
    "|7         |1.75       |1.0            |1|\n",
    "|8         |2          |0.3            |0|\n",
    "|9         |2.25       |0.9            |1|\n",
    "|10        |2.5        |0.4            |0|\n",
    "|11        |2.75       |0.7            |1|\n",
    "|12        |3          |0.3            |0|\n",
    "|13        |3.25       |0.6            |1|\n",
    "|14        |3.5        |0.2            |0|\n",
    "|15        |4          |0.7            |1|\n",
    "|16        |4.25       |0.5            |1|\n",
    "|17        |4.5        |0.7            |1|\n",
    "|18        |4.75       |0.8            |1|\n",
    "|19        |5          |0.7            |1|\n",
    "|20        |5.5        |0.8            |1|"
   ]
  },
  {
   "cell_type": "code",
   "execution_count": 2,
   "id": "efb53776",
   "metadata": {},
   "outputs": [],
   "source": [
    "import numpy as np\n",
    "import pandas as pd\n",
    "import matplotlib.pyplot as plt\n",
    "seed = 15"
   ]
  },
  {
   "cell_type": "code",
   "execution_count": 3,
   "id": "0aa83b7d",
   "metadata": {},
   "outputs": [
    {
     "data": {
      "text/html": [
       "<div>\n",
       "<style scoped>\n",
       "    .dataframe tbody tr th:only-of-type {\n",
       "        vertical-align: middle;\n",
       "    }\n",
       "\n",
       "    .dataframe tbody tr th {\n",
       "        vertical-align: top;\n",
       "    }\n",
       "\n",
       "    .dataframe thead th {\n",
       "        text-align: right;\n",
       "    }\n",
       "</style>\n",
       "<table border=\"1\" class=\"dataframe\">\n",
       "  <thead>\n",
       "    <tr style=\"text-align: right;\">\n",
       "      <th></th>\n",
       "      <th>ID</th>\n",
       "      <th>Hours</th>\n",
       "      <th>Prev</th>\n",
       "      <th>if_Pass</th>\n",
       "    </tr>\n",
       "  </thead>\n",
       "  <tbody>\n",
       "    <tr>\n",
       "      <th>0</th>\n",
       "      <td>20.0</td>\n",
       "      <td>5.50</td>\n",
       "      <td>0.8</td>\n",
       "      <td>1.0</td>\n",
       "    </tr>\n",
       "    <tr>\n",
       "      <th>1</th>\n",
       "      <td>16.0</td>\n",
       "      <td>4.25</td>\n",
       "      <td>0.5</td>\n",
       "      <td>1.0</td>\n",
       "    </tr>\n",
       "    <tr>\n",
       "      <th>2</th>\n",
       "      <td>4.0</td>\n",
       "      <td>1.25</td>\n",
       "      <td>0.4</td>\n",
       "      <td>0.0</td>\n",
       "    </tr>\n",
       "    <tr>\n",
       "      <th>3</th>\n",
       "      <td>10.0</td>\n",
       "      <td>2.50</td>\n",
       "      <td>0.4</td>\n",
       "      <td>0.0</td>\n",
       "    </tr>\n",
       "    <tr>\n",
       "      <th>4</th>\n",
       "      <td>5.0</td>\n",
       "      <td>1.50</td>\n",
       "      <td>0.7</td>\n",
       "      <td>0.0</td>\n",
       "    </tr>\n",
       "  </tbody>\n",
       "</table>\n",
       "</div>"
      ],
      "text/plain": [
       "     ID  Hours  Prev  if_Pass\n",
       "0  20.0   5.50   0.8      1.0\n",
       "1  16.0   4.25   0.5      1.0\n",
       "2   4.0   1.25   0.4      0.0\n",
       "3  10.0   2.50   0.4      0.0\n",
       "4   5.0   1.50   0.7      0.0"
      ]
     },
     "execution_count": 3,
     "metadata": {},
     "output_type": "execute_result"
    },
    {
     "data": {
      "image/png": "[encoded data removed]",
      "text/plain": [
       "<Figure size 750x500 with 1 Axes>"
      ]
     },
     "metadata": {
      "needs_background": "light"
     },
     "output_type": "display_data"
    }
   ],
   "source": [
    "data = np.array([\n",
    "        [1         ,0.5        ,0.4            ,0],\n",
    "        [2         ,0.75       ,0.3            ,0],\n",
    "        [3         ,1          ,0.6            ,0],\n",
    "        [4         ,1.25       ,0.4            ,0],\n",
    "        [5         ,1.5        ,0.7            ,0],\n",
    "        [6         ,1.75       ,0.4            ,0],\n",
    "        [7         ,1.75       ,1.0            ,1],\n",
    "        [8         ,2          ,0.3            ,0],\n",
    "        [9         ,2.25       ,0.9            ,1],\n",
    "        [10        ,2.5        ,0.4            ,0],\n",
    "        [11        ,2.75       ,0.7            ,1],\n",
    "        [12        ,3          ,0.3            ,0],\n",
    "        [13        ,3.25       ,0.6            ,1],\n",
    "        [14        ,3.5        ,0.2            ,0],\n",
    "        [15        ,4          ,0.7            ,1],\n",
    "        [16        ,4.25       ,0.5            ,1],\n",
    "        [17        ,4.5        ,0.7            ,1],\n",
    "        [18        ,4.75       ,0.8            ,1],\n",
    "        [19        ,5          ,0.7            ,1],\n",
    "        [20        ,5.5        ,0.8            ,1],\n",
    "])\n",
    "np.random.seed(seed)\n",
    "# shuffle the data\n",
    "np.random.shuffle(data)\n",
    "data_df = pd.DataFrame(data, columns=['ID', 'Hours', 'Prev', 'if_Pass'])\n",
    "# seperate the data into a training set (first 70%) and a validation set (last 30%)\n",
    "data_df_train = data_df.iloc[:10, :]\n",
    "data_df_val = data_df.iloc[10:, :]\n",
    "\n",
    "plt.figure(dpi=125)\n",
    "plt.plot(data_df_train.loc[data_df['if_Pass']==0, 'Hours'], data_df_train.loc[data_df['if_Pass']==0, 'Prev'], 'r.', markersize=15, label='Fail')\n",
    "plt.plot(data_df_train.loc[data_df['if_Pass']==1, 'Hours'], data_df_train.loc[data_df['if_Pass']==1, 'Prev'], 'b.', markersize=15, label='Pass')\n",
    "plt.plot(data_df_val['Hours'], data_df_val['Prev'], '.', color='orange', markersize=15, label='unknown')\n",
    "plt.xlabel('Study Hours / hour')\n",
    "plt.ylabel('Previous Passing Rate')\n",
    "plt.legend()\n",
    "\n",
    "data_df.head()\n"
   ]
  },
  {
   "cell_type": "code",
   "execution_count": 4,
   "id": "b2fed639",
   "metadata": {},
   "outputs": [
    {
     "data": {
      "text/html": [
       "<div>\n",
       "<style scoped>\n",
       "    .dataframe tbody tr th:only-of-type {\n",
       "        vertical-align: middle;\n",
       "    }\n",
       "\n",
       "    .dataframe tbody tr th {\n",
       "        vertical-align: top;\n",
       "    }\n",
       "\n",
       "    .dataframe thead th {\n",
       "        text-align: right;\n",
       "    }\n",
       "</style>\n",
       "<table border=\"1\" class=\"dataframe\">\n",
       "  <thead>\n",
       "    <tr style=\"text-align: right;\">\n",
       "      <th></th>\n",
       "      <th>ID</th>\n",
       "      <th>Hours</th>\n",
       "      <th>Prev</th>\n",
       "      <th>if_Pass</th>\n",
       "    </tr>\n",
       "  </thead>\n",
       "  <tbody>\n",
       "    <tr>\n",
       "      <th>0</th>\n",
       "      <td>20.0</td>\n",
       "      <td>5.50</td>\n",
       "      <td>0.8</td>\n",
       "      <td>1.0</td>\n",
       "    </tr>\n",
       "    <tr>\n",
       "      <th>1</th>\n",
       "      <td>16.0</td>\n",
       "      <td>4.25</td>\n",
       "      <td>0.5</td>\n",
       "      <td>1.0</td>\n",
       "    </tr>\n",
       "    <tr>\n",
       "      <th>2</th>\n",
       "      <td>4.0</td>\n",
       "      <td>1.25</td>\n",
       "      <td>0.4</td>\n",
       "      <td>0.0</td>\n",
       "    </tr>\n",
       "    <tr>\n",
       "      <th>3</th>\n",
       "      <td>10.0</td>\n",
       "      <td>2.50</td>\n",
       "      <td>0.4</td>\n",
       "      <td>0.0</td>\n",
       "    </tr>\n",
       "    <tr>\n",
       "      <th>4</th>\n",
       "      <td>5.0</td>\n",
       "      <td>1.50</td>\n",
       "      <td>0.7</td>\n",
       "      <td>0.0</td>\n",
       "    </tr>\n",
       "    <tr>\n",
       "      <th>5</th>\n",
       "      <td>3.0</td>\n",
       "      <td>1.00</td>\n",
       "      <td>0.6</td>\n",
       "      <td>0.0</td>\n",
       "    </tr>\n",
       "    <tr>\n",
       "      <th>6</th>\n",
       "      <td>11.0</td>\n",
       "      <td>2.75</td>\n",
       "      <td>0.7</td>\n",
       "      <td>1.0</td>\n",
       "    </tr>\n",
       "    <tr>\n",
       "      <th>7</th>\n",
       "      <td>17.0</td>\n",
       "      <td>4.50</td>\n",
       "      <td>0.7</td>\n",
       "      <td>1.0</td>\n",
       "    </tr>\n",
       "    <tr>\n",
       "      <th>8</th>\n",
       "      <td>14.0</td>\n",
       "      <td>3.50</td>\n",
       "      <td>0.2</td>\n",
       "      <td>0.0</td>\n",
       "    </tr>\n",
       "    <tr>\n",
       "      <th>9</th>\n",
       "      <td>2.0</td>\n",
       "      <td>0.75</td>\n",
       "      <td>0.3</td>\n",
       "      <td>0.0</td>\n",
       "    </tr>\n",
       "  </tbody>\n",
       "</table>\n",
       "</div>"
      ],
      "text/plain": [
       "     ID  Hours  Prev  if_Pass\n",
       "0  20.0   5.50   0.8      1.0\n",
       "1  16.0   4.25   0.5      1.0\n",
       "2   4.0   1.25   0.4      0.0\n",
       "3  10.0   2.50   0.4      0.0\n",
       "4   5.0   1.50   0.7      0.0\n",
       "5   3.0   1.00   0.6      0.0\n",
       "6  11.0   2.75   0.7      1.0\n",
       "7  17.0   4.50   0.7      1.0\n",
       "8  14.0   3.50   0.2      0.0\n",
       "9   2.0   0.75   0.3      0.0"
      ]
     },
     "execution_count": 4,
     "metadata": {},
     "output_type": "execute_result"
    }
   ],
   "source": [
    "data_df_train"
   ]
  },
  {
   "cell_type": "code",
   "execution_count": 5,
   "id": "ab40751c",
   "metadata": {},
   "outputs": [
    {
     "data": {
      "text/html": [
       "<div>\n",
       "<style scoped>\n",
       "    .dataframe tbody tr th:only-of-type {\n",
       "        vertical-align: middle;\n",
       "    }\n",
       "\n",
       "    .dataframe tbody tr th {\n",
       "        vertical-align: top;\n",
       "    }\n",
       "\n",
       "    .dataframe thead th {\n",
       "        text-align: right;\n",
       "    }\n",
       "</style>\n",
       "<table border=\"1\" class=\"dataframe\">\n",
       "  <thead>\n",
       "    <tr style=\"text-align: right;\">\n",
       "      <th></th>\n",
       "      <th>ID</th>\n",
       "      <th>Hours</th>\n",
       "      <th>Prev</th>\n",
       "      <th>if_Pass</th>\n",
       "    </tr>\n",
       "  </thead>\n",
       "  <tbody>\n",
       "    <tr>\n",
       "      <th>10</th>\n",
       "      <td>7.0</td>\n",
       "      <td>1.75</td>\n",
       "      <td>1.0</td>\n",
       "      <td>1.0</td>\n",
       "    </tr>\n",
       "    <tr>\n",
       "      <th>11</th>\n",
       "      <td>18.0</td>\n",
       "      <td>4.75</td>\n",
       "      <td>0.8</td>\n",
       "      <td>1.0</td>\n",
       "    </tr>\n",
       "    <tr>\n",
       "      <th>12</th>\n",
       "      <td>15.0</td>\n",
       "      <td>4.00</td>\n",
       "      <td>0.7</td>\n",
       "      <td>1.0</td>\n",
       "    </tr>\n",
       "    <tr>\n",
       "      <th>13</th>\n",
       "      <td>8.0</td>\n",
       "      <td>2.00</td>\n",
       "      <td>0.3</td>\n",
       "      <td>0.0</td>\n",
       "    </tr>\n",
       "    <tr>\n",
       "      <th>14</th>\n",
       "      <td>12.0</td>\n",
       "      <td>3.00</td>\n",
       "      <td>0.3</td>\n",
       "      <td>0.0</td>\n",
       "    </tr>\n",
       "    <tr>\n",
       "      <th>15</th>\n",
       "      <td>19.0</td>\n",
       "      <td>5.00</td>\n",
       "      <td>0.7</td>\n",
       "      <td>1.0</td>\n",
       "    </tr>\n",
       "    <tr>\n",
       "      <th>16</th>\n",
       "      <td>1.0</td>\n",
       "      <td>0.50</td>\n",
       "      <td>0.4</td>\n",
       "      <td>0.0</td>\n",
       "    </tr>\n",
       "    <tr>\n",
       "      <th>17</th>\n",
       "      <td>6.0</td>\n",
       "      <td>1.75</td>\n",
       "      <td>0.4</td>\n",
       "      <td>0.0</td>\n",
       "    </tr>\n",
       "    <tr>\n",
       "      <th>18</th>\n",
       "      <td>13.0</td>\n",
       "      <td>3.25</td>\n",
       "      <td>0.6</td>\n",
       "      <td>1.0</td>\n",
       "    </tr>\n",
       "    <tr>\n",
       "      <th>19</th>\n",
       "      <td>9.0</td>\n",
       "      <td>2.25</td>\n",
       "      <td>0.9</td>\n",
       "      <td>1.0</td>\n",
       "    </tr>\n",
       "  </tbody>\n",
       "</table>\n",
       "</div>"
      ],
      "text/plain": [
       "      ID  Hours  Prev  if_Pass\n",
       "10   7.0   1.75   1.0      1.0\n",
       "11  18.0   4.75   0.8      1.0\n",
       "12  15.0   4.00   0.7      1.0\n",
       "13   8.0   2.00   0.3      0.0\n",
       "14  12.0   3.00   0.3      0.0\n",
       "15  19.0   5.00   0.7      1.0\n",
       "16   1.0   0.50   0.4      0.0\n",
       "17   6.0   1.75   0.4      0.0\n",
       "18  13.0   3.25   0.6      1.0\n",
       "19   9.0   2.25   0.9      1.0"
      ]
     },
     "execution_count": 5,
     "metadata": {},
     "output_type": "execute_result"
    }
   ],
   "source": [
    "data_df_val"
   ]
  },
  {
   "cell_type": "code",
   "execution_count": 6,
   "id": "d7fbf164",
   "metadata": {},
   "outputs": [],
   "source": [
    "# define a function for calculating classification accuracy\n",
    "def cal_acc(pred, y):\n",
    "    pred = np.array(pred).flatten()\n",
    "    y = np.array(y).flatten()\n",
    "    return np.sum(pred==y) / pred.shape[0]"
   ]
  },
  {
   "cell_type": "markdown",
   "id": "5a863489",
   "metadata": {},
   "source": [
    "## Logistic Regression\n",
    "### This section, we conly consider the number of studied hours. \n",
    "You are encouraged to read this content (https://scikit-learn.org/stable/modules/generated/sklearn.linear_model.LogisticRegression.html) before going on."
   ]
  },
  {
   "cell_type": "code",
   "execution_count": 7,
   "id": "a0be4e55",
   "metadata": {},
   "outputs": [],
   "source": [
    "from sklearn.linear_model import LogisticRegression"
   ]
  },
  {
   "cell_type": "code",
   "execution_count": 8,
   "id": "082d3bc3",
   "metadata": {},
   "outputs": [],
   "source": [
    "X = data_df_train['Hours'].to_numpy().reshape(-1, 1)\n",
    "y = data_df_train['if_Pass'].to_numpy()\n",
    "# make sure that there is no regulation term by setting penalty='none'\n",
    "clf = LogisticRegression(random_state=seed, penalty='none').fit(X, y)\n"
   ]
  },
  {
   "cell_type": "code",
   "execution_count": 9,
   "id": "f918ab90",
   "metadata": {},
   "outputs": [
    {
     "name": "stdout",
     "output_type": "stream",
     "text": [
      "w0 [-6.37033981]\n",
      "w1 [[1.98442536]]\n"
     ]
    }
   ],
   "source": [
    "print('w0', clf.intercept_)\n",
    "print('w1', clf.coef_)\n"
   ]
  },
  {
   "cell_type": "code",
   "execution_count": 10,
   "id": "888aceb9",
   "metadata": {},
   "outputs": [
    {
     "name": "stdout",
     "output_type": "stream",
     "text": [
      "The prediction accuracy for logistic regression is 80.0%\n"
     ]
    }
   ],
   "source": [
    "pred = clf.predict(data_df_val['Hours'].values.reshape(-1, 1))\n",
    "y = data_df_val['if_Pass']\n",
    "print('The prediction accuracy for logistic regression is {:.4}%'.format(cal_acc(pred, y)*100))"
   ]
  },
  {
   "cell_type": "markdown",
   "id": "75d2872e",
   "metadata": {},
   "source": [
    "## Support Vector Machine\n",
    "You are encouraged to read this content (https://scikit-learn.org/stable/modules/generated/sklearn.svm.SVC.html) before going on."
   ]
  },
  {
   "cell_type": "code",
   "execution_count": 11,
   "id": "ba72e449",
   "metadata": {},
   "outputs": [],
   "source": [
    "from sklearn.svm import SVC"
   ]
  },
  {
   "cell_type": "code",
   "execution_count": 12,
   "id": "c45f7e43",
   "metadata": {},
   "outputs": [],
   "source": [
    "X = data_df_train[['Hours', 'Prev']]\n",
    "y = data_df_train['if_Pass']\n",
    "clf = SVC(C=100, kernel='linear').fit(X, y)  # make C larger, reduce regularization\n"
   ]
  },
  {
   "cell_type": "code",
   "execution_count": 13,
   "id": "bf16c1d1",
   "metadata": {},
   "outputs": [
    {
     "name": "stdout",
     "output_type": "stream",
     "text": [
      "w0 [-7.87898585]\n",
      "w1 w2 [[1.60000317 6.39808405]]\n"
     ]
    }
   ],
   "source": [
    "print('w0', clf.intercept_)\n",
    "print('w1 w2', clf.coef_)"
   ]
  },
  {
   "cell_type": "code",
   "execution_count": 14,
   "id": "da4a4f0f",
   "metadata": {},
   "outputs": [
    {
     "name": "stdout",
     "output_type": "stream",
     "text": [
      "The prediction accuracy for support vector machine is 100.0%\n"
     ]
    }
   ],
   "source": [
    "pred = clf.predict(data_df_val[['Hours', 'Prev']])\n",
    "y = data_df_val['if_Pass']\n",
    "print('The prediction accuracy for support vector machine is {:.4}%'.format(cal_acc(pred, y)*100))"
   ]
  },
  {
   "cell_type": "code",
   "execution_count": 15,
   "id": "bde506d4",
   "metadata": {},
   "outputs": [
    {
     "name": "stdout",
     "output_type": "stream",
     "text": [
      "x_min 0.25 x_max 5.75\n",
      "y_min 0.16 y_max 1.04\n"
     ]
    },
    {
     "data": {
      "text/plain": [
       "(0.16, 1.04)"
      ]
     },
     "execution_count": 15,
     "metadata": {},
     "output_type": "execute_result"
    },
    {
     "data": {
      "image/png": "[encoded data removed]",
      "text/plain": [
       "<Figure size 900x600 with 1 Axes>"
      ]
     },
     "metadata": {
      "needs_background": "light"
     },
     "output_type": "display_data"
    }
   ],
   "source": [
    "# plot hyperplane\n",
    "x1 = data_df_train['Hours'].to_numpy()\n",
    "x2 = data_df_train['Prev'].to_numpy()\n",
    "y = data_df_train['if_Pass'].to_numpy()\n",
    "\n",
    "plt.figure(dpi=150)\n",
    "plt.plot(data_df_train.loc[data_df_train['if_Pass']==0, 'Hours'], data_df_train.loc[data_df_train['if_Pass']==0, 'Prev'], 'r.', markersize=15, label='Fail')\n",
    "plt.plot(data_df_train.loc[data_df_train['if_Pass']==1, 'Hours'], data_df_train.loc[data_df_train['if_Pass']==1, 'Prev'], 'b.', markersize=15, label='Pass')\n",
    "plt.plot(data_df_val['Hours'], data_df_val['Prev'], '.', color='orange', markersize=15, label='unknown')\n",
    "plt.xlabel('Study Hours / hour')\n",
    "plt.ylabel('Previous Passing Rate')\n",
    "plt.legend()\n",
    "\n",
    "ax = plt.gca()  # obtain current subplot\n",
    "\n",
    "# obtain the axis limits\n",
    "xlim = ax.get_xlim()\n",
    "ylim = ax.get_ylim()\n",
    "print('x_min {:.2f}'.format(xlim[0]), 'x_max {:.2f}'.format(xlim[1]))\n",
    "print('y_min {:.2f}'.format(ylim[0]), 'y_max {:.2f}'.format(ylim[1]))\n",
    "\n",
    "# plot the hyperplane\n",
    "axisx = np.linspace(xlim[0], xlim[1], 50)\n",
    "axisy = np.linspace(ylim[0], ylim[1], 50)\n",
    "axisx, axisy = np.meshgrid(axisx, axisy)\n",
    "xy = np.vstack([axisx.ravel(), axisy.ravel()]).T\n",
    "\n",
    "Z = clf.decision_function(xy).reshape(axisx.shape)\n",
    "\n",
    "ax.contour(axisx, axisy, Z\n",
    "           ,colors=\"k\"\n",
    "           ,levels=[-1, 0, 1] # draw three contours, for 1, 0, and -1\n",
    "           ,alpha=0.5# transparancy\n",
    "           ,linestyles=[\"--\",\"-\",\"--\"])\n",
    "\n",
    "# set axis limitations\n",
    "ax.set_xlim(xlim)\n",
    "ax.set_ylim(ylim)\n"
   ]
  },
  {
   "cell_type": "markdown",
   "id": "bdb8fd1b",
   "metadata": {},
   "source": [
    "## Decision Trees\n",
    "A comprehensive intrduction of Decision Trees method is available via this link (https://scikit-learn.org/stable/modules/tree.html), provided by scikit-learn developers.\n",
    "\n",
    "This section mainly adopts the part 1.10.1 of this documentation to our problem."
   ]
  },
  {
   "cell_type": "code",
   "execution_count": 16,
   "id": "c1981e0c",
   "metadata": {},
   "outputs": [],
   "source": [
    "from sklearn import tree"
   ]
  },
  {
   "cell_type": "code",
   "execution_count": 17,
   "id": "26fac5dd",
   "metadata": {},
   "outputs": [],
   "source": [
    "X = data_df_train[['Hours', 'Prev']]\n",
    "y = data_df_train['if_Pass']\n",
    "clf = tree.DecisionTreeClassifier(random_state=seed)\n",
    "clf = clf.fit(X, y)\n"
   ]
  },
  {
   "cell_type": "code",
   "execution_count": 18,
   "id": "cc8a08cc",
   "metadata": {},
   "outputs": [
    {
     "data": {
      "text/plain": [
       "[Text(133.92000000000002, 181.2, 'X[0] <= 2.625\\ngini = 0.48\\nsamples = 10\\nvalue = [6, 4]'),\n",
       " Text(66.96000000000001, 108.72, 'gini = 0.0\\nsamples = 5\\nvalue = [5, 0]'),\n",
       " Text(200.88000000000002, 108.72, 'X[1] <= 0.35\\ngini = 0.32\\nsamples = 5\\nvalue = [1, 4]'),\n",
       " Text(133.92000000000002, 36.23999999999998, 'gini = 0.0\\nsamples = 1\\nvalue = [1, 0]'),\n",
       " Text(267.84000000000003, 36.23999999999998, 'gini = 0.0\\nsamples = 4\\nvalue = [0, 4]')]"
      ]
     },
     "execution_count": 18,
     "metadata": {},
     "output_type": "execute_result"
    },
    {
     "data": {
      "image/png": "[encoded data removed]",
      "text/plain": [
       "<Figure size 432x288 with 1 Axes>"
      ]
     },
     "metadata": {
      "needs_background": "light"
     },
     "output_type": "display_data"
    }
   ],
   "source": [
    "tree.plot_tree(clf)"
   ]
  },
  {
   "cell_type": "code",
   "execution_count": 19,
   "id": "967dd631",
   "metadata": {},
   "outputs": [
    {
     "name": "stdout",
     "output_type": "stream",
     "text": [
      "The prediction accuracy for decision trees is 80.0%\n"
     ]
    }
   ],
   "source": [
    "pred = clf.predict(data_df_val[['Hours', 'Prev']])\n",
    "y = data_df_val['if_Pass']\n",
    "print('The prediction accuracy for decision trees is {:.4}%'.format(cal_acc(pred, y)*100))"
   ]
  },
  {
   "cell_type": "markdown",
   "id": "18f95d90",
   "metadata": {},
   "source": [
    "## Bagging, Random Forest, and Boosting\n",
    "These are clustered into Ensemble methods, which is comprehensively intrduced by scikit-learn developers (https://scikit-learn.org/stable/modules/ensemble.html). A list of supported ensembling methods on sklearn can be found here (https://scikit-learn.org/stable/modules/classes.html#module-sklearn.ensemble). \n",
    "\n",
    "This section mainly adopts some methods in this documentation to our problem.\n"
   ]
  },
  {
   "cell_type": "markdown",
   "id": "62fb4dc8",
   "metadata": {},
   "source": [
    "### Bagging\n",
    "As introduced in lecture, bagging is an abbreviation for bootstrap aggregating.\n",
    "\n",
    "You are encouraged to read this documentation content (https://scikit-learn.org/stable/modules/generated/sklearn.ensemble.BaggingClassifier.html#sklearn.ensemble.BaggingClassifier) before going on. \n",
    "\n",
    "The figure is adopted from Wikipedia (https://en.wikipedia.org/wiki/Out-of-bag_error).\n",
    "<img src=\"./img/bagging_illustration.png\" width=600>"
   ]
  },
  {
   "cell_type": "code",
   "execution_count": 20,
   "id": "b4a622f4",
   "metadata": {},
   "outputs": [
    {
     "data": {
      "text/plain": [
       "BaggingClassifier(random_state=15)"
      ]
     },
     "execution_count": 20,
     "metadata": {},
     "output_type": "execute_result"
    }
   ],
   "source": [
    "from sklearn.ensemble import BaggingClassifier\n",
    "\n",
    "X = data_df_train[['Hours', 'Prev']]\n",
    "y = data_df_train['if_Pass']\n",
    "# A base cllasifier should be claimed before using bagging\n",
    "# if there is no such claimed, a DecisionTreeClassifier will\n",
    "# be used as the base classifier.\n",
    "# You can check the documentation for details.\n",
    "clf = BaggingClassifier(random_state=seed)\n",
    "clf.fit(X, y)"
   ]
  },
  {
   "cell_type": "code",
   "execution_count": 21,
   "id": "bf6943ed",
   "metadata": {},
   "outputs": [
    {
     "name": "stdout",
     "output_type": "stream",
     "text": [
      "The prediction accuracy for bagging with decision trees as base model is 90.0%\n"
     ]
    }
   ],
   "source": [
    "pred = clf.predict(data_df_val[['Hours', 'Prev']])\n",
    "y = data_df_val['if_Pass']\n",
    "print('The prediction accuracy for bagging with decision trees as base model is {:.4}%'.format(cal_acc(pred, y)*100))\n"
   ]
  },
  {
   "cell_type": "markdown",
   "id": "af9658b3",
   "metadata": {},
   "source": [
    "#### Random Forest\n",
    "You are encouraged to read this documentation content (https://scikit-learn.org/stable/modules/generated/sklearn.ensemble.RandomForestClassifier.html) before going on. \n",
    "\n",
    "Note: if all the variables are considered in the random forest, then it becomes bagging (using decision tree classifier). This can be achieved by setting max_features=None. You can check the documentation for details. "
   ]
  },
  {
   "cell_type": "code",
   "execution_count": 22,
   "id": "c3f4fd57",
   "metadata": {},
   "outputs": [],
   "source": [
    "from sklearn.ensemble import RandomForestClassifier"
   ]
  },
  {
   "cell_type": "code",
   "execution_count": 23,
   "id": "3d441743",
   "metadata": {},
   "outputs": [
    {
     "data": {
      "text/plain": [
       "RandomForestClassifier(random_state=15)"
      ]
     },
     "execution_count": 23,
     "metadata": {},
     "output_type": "execute_result"
    }
   ],
   "source": [
    "X = data_df_train[['Hours', 'Prev']]\n",
    "y = data_df_train['if_Pass']\n",
    "clf = RandomForestClassifier(random_state=seed)\n",
    "clf.fit(X, y)"
   ]
  },
  {
   "cell_type": "code",
   "execution_count": 24,
   "id": "1bae4aca",
   "metadata": {},
   "outputs": [
    {
     "name": "stdout",
     "output_type": "stream",
     "text": [
      "The prediction accuracy for random forest is 90.0%\n"
     ]
    }
   ],
   "source": [
    "pred = clf.predict(data_df_val[['Hours', 'Prev']])\n",
    "y = data_df_val['if_Pass']\n",
    "print('The prediction accuracy for random forest is {:.4}%'.format(cal_acc(pred, y)*100))\n"
   ]
  },
  {
   "cell_type": "markdown",
   "id": "b63d825f",
   "metadata": {},
   "source": [
    "### Boosting\n",
    "#### Adaboost\n",
    "An abbreviation for adaptive boosting. You are encouraged to read this documentation content (https://scikit-learn.org/stable/modules/generated/sklearn.ensemble.AdaBoostClassifier.html#sklearn.ensemble.AdaBoostClassifier) before going on. "
   ]
  },
  {
   "cell_type": "code",
   "execution_count": 25,
   "id": "d1d06663",
   "metadata": {},
   "outputs": [],
   "source": [
    "from sklearn.ensemble import AdaBoostClassifier"
   ]
  },
  {
   "cell_type": "code",
   "execution_count": 26,
   "id": "4064802d",
   "metadata": {},
   "outputs": [
    {
     "data": {
      "text/plain": [
       "AdaBoostClassifier(random_state=15)"
      ]
     },
     "execution_count": 26,
     "metadata": {},
     "output_type": "execute_result"
    }
   ],
   "source": [
    "X = data_df_train[['Hours', 'Prev']]\n",
    "y = data_df_train['if_Pass']\n",
    "clf = AdaBoostClassifier(random_state=seed)\n",
    "clf.fit(X, y)"
   ]
  },
  {
   "cell_type": "code",
   "execution_count": 27,
   "id": "a153a758",
   "metadata": {},
   "outputs": [
    {
     "name": "stdout",
     "output_type": "stream",
     "text": [
      "The prediction accuracy for adaboost is 70.0%\n"
     ]
    }
   ],
   "source": [
    "pred = clf.predict(data_df_val[['Hours', 'Prev']])\n",
    "y = data_df_val['if_Pass']\n",
    "print('The prediction accuracy for adaboost is {:.4}%'.format(cal_acc(pred, y)*100))\n"
   ]
  },
  {
   "cell_type": "markdown",
   "id": "0fdfb1b0",
   "metadata": {},
   "source": [
    "#### Gradient Boosting Decision Tree (GBDT)\n",
    "You are encouraged to read this documentation content (https://scikit-learn.org/stable/modules/generated/sklearn.ensemble.GradientBoostingClassifier.html#sklearn.ensemble.GradientBoostingClassifier) before going on."
   ]
  },
  {
   "cell_type": "code",
   "execution_count": 28,
   "id": "6e15d99b",
   "metadata": {},
   "outputs": [],
   "source": [
    "from sklearn.ensemble import GradientBoostingClassifier"
   ]
  },
  {
   "cell_type": "code",
   "execution_count": 29,
   "id": "3fd8cd92",
   "metadata": {},
   "outputs": [
    {
     "data": {
      "text/plain": [
       "GradientBoostingClassifier(random_state=15)"
      ]
     },
     "execution_count": 29,
     "metadata": {},
     "output_type": "execute_result"
    }
   ],
   "source": [
    "X = data_df_train[['Hours', 'Prev']]\n",
    "y = data_df_train['if_Pass']\n",
    "clf = GradientBoostingClassifier(random_state=seed)\n",
    "clf.fit(X, y)"
   ]
  },
  {
   "cell_type": "code",
   "execution_count": 30,
   "id": "a2e3780b",
   "metadata": {},
   "outputs": [
    {
     "name": "stdout",
     "output_type": "stream",
     "text": [
      "The prediction accuracy for GBDT is 80.0%\n"
     ]
    }
   ],
   "source": [
    "pred = clf.predict(data_df_val[['Hours', 'Prev']])\n",
    "y = data_df_val['if_Pass']\n",
    "print('The prediction accuracy for GBDT is {:.4}%'.format(cal_acc(pred, y)*100))\n"
   ]
  }
 ],
 "metadata": {
  "kernelspec": {
   "display_name": "Python 3 (ipykernel)",
   "language": "python",
   "name": "python3"
  },
  "language_info": {
   "codemirror_mode": {
    "name": "ipython",
    "version": 3
   },
   "file_extension": ".py",
   "mimetype": "text/x-python",
   "name": "python",
   "nbconvert_exporter": "python",
   "pygments_lexer": "ipython3",
   "version": "3.9.7"
  }
 },
 "nbformat": 4,
 "nbformat_minor": 5
}
