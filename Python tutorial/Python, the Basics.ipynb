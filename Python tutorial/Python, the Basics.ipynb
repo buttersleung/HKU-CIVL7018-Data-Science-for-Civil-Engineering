{
 "cells": [
  {
   "cell_type": "markdown",
   "id": "ed36e623",
   "metadata": {},
   "source": [
    "# Python, the Basics\n",
    "Author: Kaihang Zhang<br>\n",
    "Email: [khzhang2@connect.hku.hk](mailto:khzhang2@connect.hku.hk)<br>\n",
    "208 Haking Wong Building, The University of Hong Kong<br>\n",
    "\n",
    "December 10th, 2022\n",
    "### Table of Contents\n",
    "- [Data Types](#Data_Types)\n",
    "  - [Data](#Data)\n",
    "  - [Data Structures](#Data_Structures)\n",
    "- [Writing a Loop](#Writing_a_Loop)\n",
    "- [Operations: Methods, Functions](#Operations_Methods_Functions)\n",
    "  - [Define function](#Define_function)"
   ]
  },
  {
   "cell_type": "markdown",
   "id": "9034d203",
   "metadata": {},
   "source": [
    "## Data_Types"
   ]
  },
  {
   "cell_type": "markdown",
   "id": "d44d0108",
   "metadata": {},
   "source": [
    "### Data"
   ]
  },
  {
   "cell_type": "code",
   "execution_count": 1,
   "id": "7b5dbf37",
   "metadata": {},
   "outputs": [
    {
     "name": "stdout",
     "output_type": "stream",
     "text": [
      "1\n",
      "<class 'int'>\n"
     ]
    }
   ],
   "source": [
    "# int\n",
    "var = 1\n",
    "print(var)\n",
    "print(type(var))"
   ]
  },
  {
   "cell_type": "code",
   "execution_count": 2,
   "id": "0f0f9c43",
   "metadata": {},
   "outputs": [
    {
     "name": "stdout",
     "output_type": "stream",
     "text": [
      "1.0\n",
      "<class 'float'>\n"
     ]
    }
   ],
   "source": [
    "# float\n",
    "var = 1.\n",
    "print(var)\n",
    "print(type(var))"
   ]
  },
  {
   "cell_type": "code",
   "execution_count": 3,
   "id": "7971e75f",
   "metadata": {},
   "outputs": [
    {
     "name": "stdout",
     "output_type": "stream",
     "text": [
      "1\n",
      "<class 'str'>\n"
     ]
    }
   ],
   "source": [
    "# string\n",
    "var = '1'\n",
    "print(var)\n",
    "print(type(var))"
   ]
  },
  {
   "cell_type": "code",
   "execution_count": 4,
   "id": "b1495dce",
   "metadata": {},
   "outputs": [
    {
     "name": "stdout",
     "output_type": "stream",
     "text": [
      "True\n",
      "<class 'bool'>\n"
     ]
    }
   ],
   "source": [
    "# boolean\n",
    "var = bool(1)\n",
    "print(var)\n",
    "print(type(var))"
   ]
  },
  {
   "cell_type": "markdown",
   "id": "0b986593",
   "metadata": {},
   "source": [
    "### Data_Structures"
   ]
  },
  {
   "cell_type": "code",
   "execution_count": 5,
   "id": "b77123fe",
   "metadata": {},
   "outputs": [
    {
     "name": "stdout",
     "output_type": "stream",
     "text": [
      "[1, 2.0, '3']\n",
      "<class 'list'>\n",
      "\n",
      "\n",
      "The list after adding an element is:\n",
      "[1, 2.0, '3', 10]\n",
      "\n",
      "\n",
      "The list after extending itself is:\n",
      "[1, 2.0, '3', 10, 1, 2.0, '3', 10]\n"
     ]
    }
   ],
   "source": [
    "# list\n",
    "data_struct = [1, 2., '3']\n",
    "print(data_struct)\n",
    "print(type(data_struct))\n",
    "print('\\n')\n",
    "\n",
    "# add an element to list\n",
    "data_struct.append(10)\n",
    "print('The list after adding an element is:')\n",
    "print(data_struct)\n",
    "print('\\n')\n",
    "\n",
    "# extend list\n",
    "print('The list after extending itself is:')\n",
    "data_struct.extend(data_struct)\n",
    "print(data_struct)"
   ]
  },
  {
   "cell_type": "code",
   "execution_count": 6,
   "id": "ffbc224c",
   "metadata": {},
   "outputs": [
    {
     "name": "stdout",
     "output_type": "stream",
     "text": [
      "The dict is:\n",
      "{'integer': 1, 'string': '2', 'float_num': 3.0}\n",
      "\n",
      "\n",
      "The data type is:\n",
      "<class 'dict'>\n",
      "\n",
      "\n",
      "The dict after adding a list is:\n",
      "{'integer': 1, 'string': '2', 'float_num': 3.0, 'list': [1, 2, 3]}\n"
     ]
    }
   ],
   "source": [
    "# dict\n",
    "data_struct = {'integer':1, 'string':'2', 'float_num':3.}\n",
    "print('The dict is:')\n",
    "print(data_struct)\n",
    "print('\\n')\n",
    "print('The data type is:')\n",
    "print(type(data_struct))\n",
    "print('\\n')\n",
    "\n",
    "# add item to dict\n",
    "print('The dict after adding a list is:')\n",
    "data_struct['list'] = [1, 2, 3]\n",
    "print(data_struct)"
   ]
  },
  {
   "cell_type": "code",
   "execution_count": 7,
   "id": "f3eb0830",
   "metadata": {},
   "outputs": [
    {
     "name": "stdout",
     "output_type": "stream",
     "text": [
      "The array is:\n",
      "[[1 2 3]\n",
      " [4 5 6]]\n",
      "\n",
      "\n",
      "The data type is:\n",
      "<class 'numpy.ndarray'>\n",
      "\n",
      "\n",
      "The shape of the array\n",
      "(2, 3)\n",
      "\n",
      "\n",
      "The transposed array is:\n",
      "[[1 4]\n",
      " [2 5]\n",
      " [3 6]]\n",
      "\n",
      "\n",
      "Matrix multiplication example result:\n",
      "[[14 32]\n",
      " [32 77]]\n",
      "\n",
      "\n",
      "Matrix multiplication example result:\n",
      "[[ 1  4  9]\n",
      " [16 25 36]]\n",
      "\n",
      "\n"
     ]
    }
   ],
   "source": [
    "# array\n",
    "import numpy as np\n",
    "data_struct = np.array([[1, 2, 3], [4, 5, 6]])\n",
    "print('The array is:')\n",
    "print(data_struct)\n",
    "print('\\n')\n",
    "print('The data type is:')\n",
    "print(type(data_struct))\n",
    "print('\\n')\n",
    "\n",
    "# access the shape of array\n",
    "print('The shape of the array')\n",
    "print(data_struct.shape)\n",
    "print('\\n')\n",
    "\n",
    "# matrix transpose\n",
    "print('The transposed array is:')\n",
    "print(data_struct.T)\n",
    "print('\\n')\n",
    "\n",
    "# matrix multiplication\n",
    "print('Matrix multiplication example result:')\n",
    "print(data_struct @ data_struct.T)\n",
    "print('\\n')\n",
    "\n",
    "#element-wise product of arrays\n",
    "print('Matrix multiplication example result:')\n",
    "print(data_struct * data_struct)\n",
    "print('\\n')\n"
   ]
  },
  {
   "cell_type": "code",
   "execution_count": 8,
   "id": "b093df2b",
   "metadata": {},
   "outputs": [
    {
     "name": "stdout",
     "output_type": "stream",
     "text": [
      "The DataFrame is:\n",
      "      column1  column2  column3\n",
      "row1        1        2        3\n",
      "row2        4        5        6\n",
      "\n",
      "\n"
     ]
    }
   ],
   "source": [
    "# DataFrame\n",
    "import pandas as pd\n",
    "array = np.array([[1, 2, 3], [4, 5, 6]])\n",
    "print('The DataFrame is:')\n",
    "data_struct = pd.DataFrame(array, index=['row1', 'row2'], columns=['column1', 'column2', 'column3'])\n",
    "print(data_struct)\n",
    "print('\\n')\n",
    "\n",
    "# detailed pandas quick tutorials can be found at\n",
    "# https://pandas.pydata.org/docs/user_guide/10min.html#min"
   ]
  },
  {
   "cell_type": "code",
   "execution_count": 9,
   "id": "1d2195dc",
   "metadata": {},
   "outputs": [
    {
     "name": "stdout",
     "output_type": "stream",
     "text": [
      "The tensor is:\n",
      "tensor([[1, 2, 3],\n",
      "        [4, 5, 6]])\n",
      "\n",
      "\n"
     ]
    }
   ],
   "source": [
    "# tensor\n",
    "import torch\n",
    "print('The tensor is:')\n",
    "array = np.array([[1, 2, 3], [4, 5, 6]])\n",
    "data_struct = torch.tensor(array)\n",
    "print(data_struct)\n",
    "print('\\n')\n",
    "\n",
    "# detailed pytorch quick tutorials can be found at\n",
    "# https://pytorch.org/tutorials/"
   ]
  },
  {
   "cell_type": "markdown",
   "id": "bf145bea",
   "metadata": {},
   "source": [
    "## Writing_a_Loop"
   ]
  },
  {
   "cell_type": "markdown",
   "id": "f45895e7",
   "metadata": {},
   "source": [
    "### \"for\" loop"
   ]
  },
  {
   "cell_type": "code",
   "execution_count": 10,
   "id": "927956b1",
   "metadata": {},
   "outputs": [
    {
     "name": "stdout",
     "output_type": "stream",
     "text": [
      "0\n",
      "1\n",
      "2\n",
      "3\n",
      "4\n"
     ]
    }
   ],
   "source": [
    "max_num_iter = 5  # the maximum number of iteration\n",
    "\n",
    "# \"i\" is a temporary variable to use in each iteration\n",
    "# \"range\" is a build-in function to generate iterable values\n",
    "for i in range(max_num_iter):\n",
    "    print(i)\n",
    "# Note: the index number in Python starts from 0, not 1!\n"
   ]
  },
  {
   "cell_type": "code",
   "execution_count": 11,
   "id": "26cd412a",
   "metadata": {},
   "outputs": [
    {
     "name": "stdout",
     "output_type": "stream",
     "text": [
      "2\n",
      "3\n",
      "4\n",
      "5\n",
      "6\n"
     ]
    }
   ],
   "source": [
    "for i in range(2, 7):\n",
    "    print(i)\n",
    "# Note that the starting point of range(x, y)\n",
    "# is included but the ending point is not\n",
    "# (x is included but y is excluded)"
   ]
  },
  {
   "cell_type": "code",
   "execution_count": 12,
   "id": "237485a3",
   "metadata": {},
   "outputs": [
    {
     "name": "stdout",
     "output_type": "stream",
     "text": [
      "list before adding value is []\n",
      "list after adding value is [0, 1, 2, 3, 4]\n"
     ]
    }
   ],
   "source": [
    "# \"for\" loop and list\n",
    "test_list = []  # create an empty list\n",
    "print('list before adding value is', test_list)\n",
    "for i in range(5):\n",
    "    test_list.append(i)\n",
    "\n",
    "print('list after adding value is', test_list)"
   ]
  },
  {
   "cell_type": "markdown",
   "id": "631141af",
   "metadata": {},
   "source": [
    "### \"while\" loop"
   ]
  },
  {
   "cell_type": "code",
   "execution_count": 13,
   "id": "e67d6185",
   "metadata": {},
   "outputs": [
    {
     "name": "stdout",
     "output_type": "stream",
     "text": [
      "0\n",
      "1\n",
      "2\n",
      "3\n",
      "4\n"
     ]
    }
   ],
   "source": [
    "# in \"while\" loop, an iterable variable must be pre-specified\n",
    "c = 0\n",
    "while c<5:\n",
    "    print(c)\n",
    "    c = c + 1\n",
    "\n",
    "# Personally, \"for\" loop is more used than \"while\" loop"
   ]
  },
  {
   "attachments": {},
   "cell_type": "markdown",
   "id": "14b854fd",
   "metadata": {},
   "source": [
    "## Operations_Methods_Functions"
   ]
  },
  {
   "cell_type": "code",
   "execution_count": 14,
   "id": "a13daceb",
   "metadata": {},
   "outputs": [
    {
     "name": "stdout",
     "output_type": "stream",
     "text": [
      "append is a method\n",
      "[1]\n"
     ]
    }
   ],
   "source": [
    "print('append is a method')\n",
    "test_list = []\n",
    "test_list.append(1)\n",
    "print(test_list)"
   ]
  },
  {
   "cell_type": "code",
   "execution_count": 15,
   "id": "6a742aec",
   "metadata": {},
   "outputs": [
    {
     "name": "stdout",
     "output_type": "stream",
     "text": [
      "There is no output for a method:\n",
      "None\n"
     ]
    }
   ],
   "source": [
    "print('There is no output for a method:')\n",
    "test_list = []\n",
    "print(test_list.append(1))"
   ]
  },
  {
   "cell_type": "code",
   "execution_count": 16,
   "id": "26ff23f5",
   "metadata": {},
   "outputs": [
    {
     "name": "stdout",
     "output_type": "stream",
     "text": [
      "sum is a function\n",
      "6\n"
     ]
    }
   ],
   "source": [
    "print('sum is a function')\n",
    "test_list = [1, 2, 3]\n",
    "summation = sum(test_list)\n",
    "print(summation)"
   ]
  },
  {
   "cell_type": "code",
   "execution_count": 17,
   "id": "b870ee96",
   "metadata": {},
   "outputs": [
    {
     "name": "stdout",
     "output_type": "stream",
     "text": [
      "pd.sort_values is a function\n",
      "      column1  column2  column3\n",
      "row2        4        5        6\n",
      "row1        1        2        3\n",
      "\n",
      "\n",
      "If no value assignment, the original DataFrame remains unchanged \n",
      "       column1  column2  column3\n",
      "row1        1        2        3\n",
      "row2        4        5        6\n",
      "\n",
      "\n",
      "The DataFrame is now sorted!\n",
      "      column1  column2  column3\n",
      "row2        4        5        6\n",
      "row1        1        2        3\n"
     ]
    }
   ],
   "source": [
    "# now we try to sort the DataFrame by the first column\n",
    "# by descending order\n",
    "print('pd.sort_values is a function')\n",
    "test_df = pd.DataFrame(array, index=['row1', 'row2'], columns=['column1', 'column2', 'column3'])\n",
    "\n",
    "print(test_df.sort_values(by='column1', ascending=False))\n",
    "print('\\n')\n",
    "\n",
    "# apply sort_values\n",
    "test_df.sort_values(by='column1', ascending=False)\n",
    "print('If no value assignment, the original DataFrame remains unchanged', '\\n', test_df)\n",
    "print('\\n')\n",
    "\n",
    "# The correct approach is to assign the sorted DataFrame to itself\n",
    "print('The DataFrame is now sorted!')\n",
    "test_df = test_df.sort_values(by='column1', ascending=False)\n",
    "print(test_df)\n"
   ]
  },
  {
   "cell_type": "markdown",
   "id": "31127819",
   "metadata": {},
   "source": [
    "### Define_function"
   ]
  },
  {
   "cell_type": "code",
   "execution_count": 18,
   "id": "f4972447",
   "metadata": {},
   "outputs": [],
   "source": [
    "def my_function(input1, input2):\n",
    "    # write your funciton details here\n",
    "    # consider both inputs are numerical values (int, float)\n",
    "    output = input1 + input2\n",
    "    return output"
   ]
  },
  {
   "cell_type": "code",
   "execution_count": 19,
   "id": "35de0373",
   "metadata": {},
   "outputs": [
    {
     "data": {
      "text/plain": [
       "3"
      ]
     },
     "execution_count": 19,
     "metadata": {},
     "output_type": "execute_result"
    }
   ],
   "source": [
    "my_function(1, 2)"
   ]
  }
 ],
 "metadata": {
  "kernelspec": {
   "display_name": "Python 3 (ipykernel)",
   "language": "python",
   "name": "python3"
  },
  "language_info": {
   "codemirror_mode": {
    "name": "ipython",
    "version": 3
   },
   "file_extension": ".py",
   "mimetype": "text/x-python",
   "name": "python",
   "nbconvert_exporter": "python",
   "pygments_lexer": "ipython3",
   "version": "3.8.11"
  }
 },
 "nbformat": 4,
 "nbformat_minor": 5
}
